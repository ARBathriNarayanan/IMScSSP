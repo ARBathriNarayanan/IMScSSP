{
 "cells": [
  {
   "cell_type": "code",
   "execution_count": 1,
   "id": "8956b2dc-fafe-4b9a-a561-ac1df84ee3dc",
   "metadata": {},
   "outputs": [],
   "source": [
    "#Importing libraries\n",
    "import numpy as np\n",
    "import scipy as sp\n",
    "from scipy.optimize import minimize"
   ]
  },
  {
   "cell_type": "code",
   "execution_count": 22,
   "id": "f1d2d138-07bd-4217-8a49-7d289061b13c",
   "metadata": {},
   "outputs": [],
   "source": [
    "#Constructing the function\n",
    "def f(p):\n",
    "    #a0=1.04\n",
    "    a0=np.random.normal(1.04,0.29)\n",
    "    #r=0.96\n",
    "    r=np.random.normal(0.96,0.18)\n",
    "    pcosdelta=1/a0+0.5*r*(p**2)\n",
    "    return pcosdelta\n",
    "    #den=pcosdelta-1j*p\n",
    "    #return den"
   ]
  },
  {
   "cell_type": "code",
   "execution_count": 40,
   "id": "d30b86b3-d2c9-45f5-952f-41405f33d8a8",
   "metadata": {},
   "outputs": [],
   "source": [
    "#Getting data points\n",
    "p=np.linspace(1,10,10)\n",
    "fp=[]\n",
    "for i in p:\n",
    "    fp.append(f(i))"
   ]
  },
  {
   "cell_type": "code",
   "execution_count": 4,
   "id": "9a97154f-e714-43fa-92e3-09735d6e576d",
   "metadata": {},
   "outputs": [],
   "source": [
    "#Defining least fit norms\n",
    "\n",
    "def l2(p,fv,g):\n",
    "    l2=0\n",
    "    for i in range(len(fv)):\n",
    "        l2=l2+(fv[i]-g(p[i]))**2\n",
    "    return l2\n",
    "\n",
    "def l1(p,fv,g):\n",
    "    l1=0\n",
    "    for i in range(len(fv)):\n",
    "        l1=l1+(fv[i]-g(p[i]))\n",
    "    return l1    \n",
    "\n",
    "def linf(p,fv,g):\n",
    "    linf=0\n",
    "    err=[]\n",
    "    for i in range(len(fv)):\n",
    "        err.append(fv[i]-g(p[i]))\n",
    "    i=np.argmax(err)\n",
    "    linf=err[i]\n",
    "    return linf"
   ]
  },
  {
   "cell_type": "code",
   "execution_count": 5,
   "id": "e13283e1-6440-45ff-9cf0-e2d6d4556f76",
   "metadata": {},
   "outputs": [
    {
     "data": {
      "text/plain": [
       "6223.323658215648"
      ]
     },
     "execution_count": 5,
     "metadata": {},
     "output_type": "execute_result"
    }
   ],
   "source": [
    "# Define the L2 norm function for optimization for constant function\n",
    "def l2(c, p, fv):\n",
    "    cr, ci = c[0], c[1]\n",
    "    sum = 0\n",
    "    for i in range(len(fv)):\n",
    "        sum=sum+np.abs(fv[i] - (cr + ci * 1j))**2\n",
    "    return sum\n",
    "    \n",
    "a0 = [0, 0]\n",
    "\n",
    "# Minimize the L2 norm function\n",
    "res = minimize(l2, a0, args=(p, fp))\n",
    "\n",
    "coeff=[]\n",
    "for i in range(2):\n",
    "    coeff.append(res.x[i])\n",
    "\n",
    "kaisq=l2(a0,p,fp)\n",
    "kaisq"
   ]
  },
  {
   "cell_type": "code",
   "execution_count": 52,
   "id": "1ff824ab-258d-4612-befb-d86a2b80af86",
   "metadata": {},
   "outputs": [
    {
     "name": "stdout",
     "output_type": "stream",
     "text": [
      "[ 0.28680248  1.48397759 -0.63847027]\n"
     ]
    },
    {
     "data": {
      "text/plain": [
       "array([-5.57362561,  0.39941096])"
      ]
     },
     "execution_count": 52,
     "metadata": {},
     "output_type": "execute_result"
    }
   ],
   "source": [
    "#Constructing Pade Approximant using polynomial fit \n",
    "\n",
    "#1. Getting data points\n",
    "p=np.linspace(1,10,10)\n",
    "fp=[]\n",
    "for i in p:\n",
    "    fp.append(f(i))\n",
    "# 2. Finding the best numerator least fit\n",
    "coeff=0\n",
    "kaisqo=10e6\n",
    "kaisq=10e5\n",
    "num=5\n",
    "for i in range(5):\n",
    "    coeffo=coeff\n",
    "    coeff=np.polyfit(p,fp,i)\n",
    "    poly=np.poly1d(coeff)\n",
    "    kaisqo=kaisq\n",
    "    kaisq=0\n",
    "    for j in range(num):\n",
    "        kaisq=kaisq+(fp[j]-poly(p[j]))**2   \n",
    "    if (kaisqo<=kaisq):\n",
    "        coeff=coeffo\n",
    "        break\n",
    "print(coeff)\n",
    "poly=np.poly1d(coeff)\n",
    "poly.r"
   ]
  },
  {
   "cell_type": "code",
   "execution_count": 74,
   "id": "f376803c-d36d-4441-86cd-38201b9101dc",
   "metadata": {},
   "outputs": [
    {
     "name": "stdout",
     "output_type": "stream",
     "text": [
      "(6.210626630083831+1.6239764708839055j) 26.78576069742969\n",
      "(1.8412353352066004-2.657416043264573j) 3.242359462334183\n"
     ]
    }
   ],
   "source": [
    "#Trying averaging of zeroes\n",
    "r1,r2=[],[]\n",
    "for i in range (10):\n",
    "    #1.Obtaining the roots \n",
    "    p=np.linspace(1,10,10)\n",
    "    fp=[]\n",
    "    for i in p:\n",
    "        fp.append(f(i))\n",
    "    coeff=0\n",
    "    kaisqo=10e6\n",
    "    kaisq=10e5\n",
    "    num=5\n",
    "    for i in range(5):\n",
    "        coeffo=coeff\n",
    "        coeff=np.polyfit(p,fp,i)\n",
    "        poly=np.poly1d(coeff)\n",
    "        kaisqo=kaisq\n",
    "        kaisq=0\n",
    "        for j in range(num):\n",
    "            kaisq=kaisq+(fp[j]-poly(p[j]))**2   \n",
    "        if (kaisqo<=kaisq):\n",
    "            coeff=coeffo\n",
    "            break\n",
    "    poly=np.poly1d(coeff)\n",
    "    roots=np.roots(poly)\n",
    "    r1.append(roots[0])\n",
    "    for i in range(1,len(roots)):\n",
    "        if (roots[i].imag==-roots[i-1].imag):\n",
    "            r2.append(roots[i])\n",
    "        else:\n",
    "            r1.append(roots[i])\n",
    "avgr1=sum(r1)/len(r1)\n",
    "std1=np.std(r1)\n",
    "print(avgr1,std1)\n",
    "\n",
    "\n",
    "avgr2=sum(r2)/len(r2)\n",
    "std2=np.std(r2)\n",
    "print(avgr2,std2)"
   ]
  },
  {
   "cell_type": "code",
   "execution_count": null,
   "id": "b11a668a-c740-4902-a253-c4177516cbc7",
   "metadata": {},
   "outputs": [],
   "source": []
  }
 ],
 "metadata": {
  "kernelspec": {
   "display_name": "Python 3 (ipykernel)",
   "language": "python",
   "name": "python3"
  },
  "language_info": {
   "codemirror_mode": {
    "name": "ipython",
    "version": 3
   },
   "file_extension": ".py",
   "mimetype": "text/x-python",
   "name": "python",
   "nbconvert_exporter": "python",
   "pygments_lexer": "ipython3",
   "version": "3.12.3"
  }
 },
 "nbformat": 4,
 "nbformat_minor": 5
}
