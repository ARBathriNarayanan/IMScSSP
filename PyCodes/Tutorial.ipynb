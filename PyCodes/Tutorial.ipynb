{
 "cells": [
  {
   "cell_type": "code",
   "execution_count": 1,
   "id": "f977a881",
   "metadata": {},
   "outputs": [
    {
     "name": "stdout",
     "output_type": "stream",
     "text": [
      "(4+0.001j) (2.0000000156249995+0.00024999999804687506j) (2.0000000156249995+0.00024999999804687506j)\n",
      "(4-0.001j) (2.0000000156249995-0.00024999999804687506j) (-2.0000000156249995+0.00024999999804687506j)\n",
      "(-4+0.001j) (0.00024999999804687506+2.0000000156249995j) (0.00024999999804687506+2.0000000156249995j)\n",
      "(-4-0.001j) (0.00024999999804687506-2.0000000156249995j) (-0.00024999999804687506+2.0000000156249995j)\n"
     ]
    }
   ],
   "source": [
    "#Whatever codes are written in Python, is available here. The code will be updated here as well as in the Jupyter notebook \n",
    "import cmath as cm\n",
    "\n",
    "z=[4.00+0.001j,4.00-0.001j,-4.00+0.001j,-4.00-0.001j]\n",
    "\n",
    "def msqrt(x):\n",
    "    x=cm.sqrt(x)\n",
    "    if x.imag<=0.0: x*=-1\n",
    "    return x  \n",
    "\n",
    "for i in range(len(z)):\n",
    "    print (z[i],cm.sqrt(z[i]),msqrt(z[i]))"
   ]
  },
  {
   "cell_type": "code",
   "execution_count": 2,
   "id": "69b60661-d059-4bf1-a6ae-c349b2ae72f4",
   "metadata": {},
   "outputs": [],
   "source": [
    "import cmath as cm\n",
    "import scipy as sp\n",
    "from scipy.interpolate import pade \n",
    "import numpy as np\n",
    "from numpy.polynomial import Polynomial as poly"
   ]
  },
  {
   "cell_type": "code",
   "execution_count": 3,
   "id": "3d3f2815",
   "metadata": {},
   "outputs": [
    {
     "name": "stdout",
     "output_type": "stream",
     "text": [
      "                        2\n",
      "(0.001967 + 0.003279j) x + (-0.02713 + -0.05485j) x + 1\n"
     ]
    },
    {
     "data": {
      "text/plain": [
       "array([-0.17197797-0.09801837j])"
      ]
     },
     "execution_count": 3,
     "metadata": {},
     "output_type": "execute_result"
    }
   ],
   "source": [
    "import cmath as cm\n",
    "import scipy as sp\n",
    "from scipy.interpolate import pade \n",
    "import numpy as np\n",
    "from numpy.polynomial import Polynomial as poly\n",
    "\n",
    "#Second assignment: Finding the least square Pade approximant\n",
    "\n",
    "#Defining the function and noise\n",
    "def fn(x):\n",
    "    fn=x/((x+57j)*(x+44j))\n",
    "    #fn=(x+2j)*(x-2j)\n",
    "    return fn\n",
    "\n",
    "def noise(x):\n",
    "    noise=1+np.random.normal()*x\n",
    "    return noise\n",
    "\n",
    "#Getting the data points\n",
    "x=np.linspace(1,150,150)\n",
    "fa=[]\n",
    "for i in range(150):\n",
    "    fa.append(fn(x[i]))\n",
    "    fa[i]=fa[i]*noise(0.001)\n",
    "    #print (x[i])#,fa[i])\n",
    "\n",
    "#Getting the coefficients\n",
    "coeff=np.polyfit(x,fa,10)\n",
    "coeff=np.flip(coeff)\n",
    "\n",
    "#Using Pade Approximation\n",
    "n,m=2,1\n",
    "p,q=pade(coeff,n,m)\n",
    "\n",
    "print(q)\n",
    "\n",
    "# Print the evaluated Pade values\n",
    "#for i in range(len(x)):\n",
    "    #print(\"x =\", x[i], \", Pade approximation =\", p(x[i])/q(x[i]),\"Actual value = \",fa[i])\n",
    "\n",
    "p.r"
   ]
  },
  {
   "cell_type": "code",
   "execution_count": 4,
   "id": "dba40759-2d3e-4a6d-8b14-efe15438a7e4",
   "metadata": {},
   "outputs": [],
   "source": [
    "#q.r"
   ]
  },
  {
   "cell_type": "code",
   "execution_count": 5,
   "id": "a852f8a7-954a-4bcb-b57e-42953f98d17f",
   "metadata": {},
   "outputs": [
    {
     "name": "stdout",
     "output_type": "stream",
     "text": [
      "(-10.619752645662174+0j)\n",
      "(-13.379736648406833+0j)\n",
      "(-0.09312218238051173+0j)\n"
     ]
    }
   ],
   "source": [
    "#Making sense of delta\n",
    "a0=[1.04e-15,0.86e-15,-7.15e-15]\n",
    "r=[0.96e-15,0.92e-15,-11.9e-15]\n",
    "md=[1927,1762,1864.85]\n",
    "mds=[2049,1898,2010.26]\n",
    "\n",
    "for i in range(3):\n",
    "    coeff=[0.5*r[i],0,1/a0[i]]\n",
    "    pcotdelta=np.poly1d(coeff)\n",
    "    \n",
    "    ix=[1j,0]\n",
    "    ix=np.poly1d(ix)\n",
    "    root=np.roots(pcotdelta-ix)\n",
    "    conv=140.0/2.7e15\n",
    "    pbm=root*conv*(1/1j)\n",
    "    for j in range(len(pbm)):\n",
    "        if np.absolute(pbm[j].imag)==0:\n",
    "            pb=pbm[j]\n",
    "    #print (\"*\",pb)\n",
    "    E = ((md[i]**2-pb**2)**0.5)+((mds[i]**2-pb**2)**0.5)\n",
    "    delta=E-md[i]-mds[i]\n",
    "    print (delta)\n",
    "\n",
    "    #[-0.+1.41534629e+15j  0.-1.41534629e+15j]\n"
   ]
  },
  {
   "cell_type": "code",
   "execution_count": 6,
   "id": "e56f4cf5-6377-4b5e-83f3-f6e86d2377c7",
   "metadata": {},
   "outputs": [],
   "source": [
    "def func(a0, r, p):\n",
    "    pcosdelta = (1.0 / a0) + (0.5 * r * (p**2))\n",
    "    return pcosdelta\n",
    "    #den=(1.0/a0)+(0.5*r*E)-1j*np.sqrt(E)\n",
    "    #return den"
   ]
  },
  {
   "cell_type": "code",
   "execution_count": 7,
   "id": "279f65c9-ad47-442c-8450-202e13debf99",
   "metadata": {},
   "outputs": [
    {
     "data": {
      "text/plain": [
       "'\\n#Pade try 1\\n# Getting the data points required\\nnum = 10\\nE = np.linspace(1, num, num)\\na0 = 1.04\\nr = 0.96\\npd = [pcosdelta(a0, r, E[i]) for i in range(len(E))]\\n\\n# Numerator and denominator coefficients\\nm = 1\\nn = 2\\ncoeff = [1] * (m + 1 + n + 1)\\n\\n# Constructing the least squares function\\ndef ls(coeff, num, E, pd, m, n):\\n    def g(E):\\n        num_val = sum(coeff[j] * E**j for j in range(m + 1))\\n        den_val = 1 + sum(coeff[m + 1 + j] * E**(j + 1) for j in range(n))\\n        return num_val / den_val\\n\\n    lsval = sum((pd[i] - g(E[i]))**2 for i in range(num))\\n    return lsval\\n\\n# Minimize the least squares function\\nresult = sp.optimize.minimize(ls, coeff, args=(num, E, pd, m, n))\\n\\n# Output the result\\nprint(\"Optimized coefficients:\", result.x)\\n'"
      ]
     },
     "execution_count": 7,
     "metadata": {},
     "output_type": "execute_result"
    }
   ],
   "source": [
    "\"\"\"\n",
    "#Pade try 1\n",
    "# Getting the data points required\n",
    "num = 10\n",
    "E = np.linspace(1, num, num)\n",
    "a0 = 1.04\n",
    "r = 0.96\n",
    "pd = [pcosdelta(a0, r, E[i]) for i in range(len(E))]\n",
    "\n",
    "# Numerator and denominator coefficients\n",
    "m = 1\n",
    "n = 2\n",
    "coeff = [1] * (m + 1 + n + 1)\n",
    "\n",
    "# Constructing the least squares function\n",
    "def ls(coeff, num, E, pd, m, n):\n",
    "    def g(E):\n",
    "        num_val = sum(coeff[j] * E**j for j in range(m + 1))\n",
    "        den_val = 1 + sum(coeff[m + 1 + j] * E**(j + 1) for j in range(n))\n",
    "        return num_val / den_val\n",
    "\n",
    "    lsval = sum((pd[i] - g(E[i]))**2 for i in range(num))\n",
    "    return lsval\n",
    "\n",
    "# Minimize the least squares function\n",
    "result = sp.optimize.minimize(ls, coeff, args=(num, E, pd, m, n))\n",
    "\n",
    "# Output the result\n",
    "print(\"Optimized coefficients:\", result.x)\n",
    "\"\"\""
   ]
  },
  {
   "cell_type": "code",
   "execution_count": 8,
   "id": "9c99a15c-e2ed-4101-9256-d2aeee388f98",
   "metadata": {},
   "outputs": [
    {
     "name": "stdout",
     "output_type": "stream",
     "text": [
      "-10.054432137712865\n",
      "-15.029201637892584\n",
      "-0.16593301876469013\n"
     ]
    }
   ],
   "source": [
    "#Making sense of delta\n",
    "a0=[1.04,0.86,-7.15]\n",
    "r=[0.96,0.92,-11.9]\n",
    "md=[1927,1762,1864.85]\n",
    "mds=[2049,1898,2010.26]\n",
    "\n",
    "for i in range(3):\n",
    "    coeff=[0.5*r[i],0,1/a0[i]]\n",
    "    pcotdelta=np.poly1d(coeff)\n",
    "    ix=[1j,0]\n",
    "    ix=np.poly1d(ix)\n",
    "    root=np.roots(pcotdelta-ix)\n",
    "    conv=197.327\n",
    "    pbm=np.imag(root*conv)#*(1/1j)\n",
    "    for j in range(len(pbm)):\n",
    "        if np.absolute(pbm[j].imag)==0:\n",
    "            pb=pbm[j]\n",
    "    #print (\"*\",pb)\n",
    "    E = ((md[i]**2-pb**2)**0.5)+((mds[i]**2-pb**2)**0.5)\n",
    "    delta=E-md[i]-mds[i]\n",
    "    print (delta)"
   ]
  },
  {
   "cell_type": "code",
   "execution_count": 13,
   "id": "c1af24f1-64f6-4bb5-a278-8daa869c6d63",
   "metadata": {},
   "outputs": [
    {
     "name": "stdout",
     "output_type": "stream",
     "text": [
      "[ 9.61538462e-01 -1.83963679e-14  4.80000000e-01]\n"
     ]
    },
    {
     "data": {
      "text/plain": [
       "array([1.91628832e-14+1.41534629j, 1.91628832e-14-1.41534629j])"
      ]
     },
     "execution_count": 13,
     "metadata": {},
     "output_type": "execute_result"
    }
   ],
   "source": [
    "#Constructing Pade Approximant using polynomial fit (Without noise)\n",
    "#Hypothesis: This method might give a lot of errors\n",
    "\n",
    "# Getting the data points required\n",
    "#t=p**2\n",
    "num = 100\n",
    "p = np.linspace(1, num, num)\n",
    "a0 = 1.04\n",
    "r = 0.96\n",
    "pd = [func(a0, r, p[i]) for i in range(len(p))]\n",
    "#print(t,pd)\n",
    "\n",
    "#Constructing the Pade polynomial fitting the data\n",
    "\n",
    "# 1. Finding the best order polynomial for the function\n",
    "\n",
    "ks=[]\n",
    "for i in range(11):\n",
    "    coeff=np.polyfit(p,pd,i)\n",
    "    poly=np.poly1d(coeff)\n",
    "    kaisq=0\n",
    "    for j in range(num):\n",
    "        kaisq=kaisq+(pd[j]-poly(p[j]))**2\n",
    "    ks.append(kaisq)\n",
    "imin=np.argmin(ks)\n",
    "coeff=np.polyfit(p,pd,imin)\n",
    "\n",
    "# 2. Getting the coefficients\n",
    "coeff=np.flip(coeff)\n",
    "print(coeff)\n",
    "\n",
    "# 3.Optimization of (m,n) in Pade using Kai square\n",
    "ks=[]\n",
    "for i in range(len(coeff)-1,-1,-1):\n",
    "    j=len(coeff)-i-1\n",
    "    pi,qi=pade(coeff,j,i)\n",
    "    gi=pi/qi\n",
    "    kaisq=0\n",
    "    for j in range(num):\n",
    "        kaisq=kaisq+(pd[j]-pi(x[j])/qi(x[j]))**2\n",
    "    ks.append(kaisq)\n",
    "i=np.argmin(ks)\n",
    "p=0\n",
    "q=0\n",
    "p,q=pade(coeff,i,len(coeff)-1-i)\n",
    "p.r"
   ]
  },
  {
   "cell_type": "code",
   "execution_count": null,
   "id": "81a9d206-c3c4-42ff-8de7-1fc66db61613",
   "metadata": {},
   "outputs": [],
   "source": []
  }
 ],
 "metadata": {
  "kernelspec": {
   "display_name": "Python 3 (ipykernel)",
   "language": "python",
   "name": "python3"
  },
  "language_info": {
   "codemirror_mode": {
    "name": "ipython",
    "version": 3
   },
   "file_extension": ".py",
   "mimetype": "text/x-python",
   "name": "python",
   "nbconvert_exporter": "python",
   "pygments_lexer": "ipython3",
   "version": "3.12.3"
  }
 },
 "nbformat": 4,
 "nbformat_minor": 5
}
